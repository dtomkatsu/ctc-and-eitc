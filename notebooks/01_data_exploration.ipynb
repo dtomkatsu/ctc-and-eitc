{
 "cells": [
  {
   "cell_type": "markdown",
   "metadata": {},
   "source": [
    "# CTC and EITC Analysis for Hawaii\n",
    "## Initial Data Exploration\n",
    "\n",
    "This notebook provides an initial exploration of the PUMS data for Hawaii and sets up the foundation for CTC and EITC analysis."
   ]
  },
  {
   "cell_type": "code",
   "execution_count": null,
   "metadata": {},
   "source": [
    "# Import required libraries\n",
    "import os\n",
    "import sys\n",
    "import pandas as pd\n",
    "import numpy as np\n",
    "import matplotlib.pyplot as plt\n",
    "import seaborn as sns\n",
    "\n",
    "# Add project root to path\n",
    "sys.path.append(os.path.abspath(os.path.join('..', '..')))\n",
    "\n",
    "# Import project configuration\n",
    "from config import settings\n",
    "\n",
    "# Set plotting style\n",
    "sns.set_theme(style=\"whitegrid\")\n",
    "%matplotlib inline"
   ],
   "outputs": [],
   "metadata": {}
  },
  {
   "cell_type": "code",
   "execution_count": null,
   "metadata": {},
   "source": [
    "def load_pums_data(year, state_fips, sample_size=1000):\n",
    "    \"\"\"Load a sample of PUMS data for the specified year and state.\"\"\"\n",
    "    # This is a placeholder function - will be implemented with actual data loading\n",
    "    print(f\"Loading PUMS data for Hawaii ({state_fips}) for year {year}...\")\n",
    "    # Return sample data for now\n",
    "    return pd.DataFrame({\n",
    "        'SERIALNO': range(1, sample_size + 1),\n",
    "        'SPORDER': 1,\n",
    "        'PUMA': np.random.randint(1, 100, size=sample_size),\n",
    "        'ST': state_fips,\n",
    "        'AGEP': np.random.randint(18, 85, size=sample_size),\n",
    "        'SEX': np.random.choice([1, 2], size=sample_size),\n",
    "        'RAC1P': np.random.choice(range(1, 10), size=sample_size),\n",
    "        'HISP': np.random.choice([1, 2], size=sample_size, p=[0.9, 0.1]),\n",
    "        'PINCP': np.random.exponential(50000, size=sample_size).astype(int),\n",
",
    "        'NOC': np.random.randint(0, 6, size=sample_size),  # Number of children\n",
    "        'FTPT': np.random.choice([1, 2], size=sample_size),  # Full/part time\n",
    "        'WAGP': np.random.exponential(40000, size=sample_size).astype(int),  # Wages\n",
    "        'RETP': np.random.exponential(10000, size=sample_size).astype(int),  # Retirement income\n",
    "        'SSP': np.random.exponential(5000, size=sample_size).astype(int)  # Social Security income\n",
    "    })"
   ],
   "outputs": [],
   "metadata": {}
  },
  {
   "cell_type": "code",
   "execution_count": null,
   "metadata": {},
   "source": [
    "# Load sample data\n",
    "sample_data = load_pums_data(2020, settings.STATE_FIPS)\n",
    "sample_data.head()"
   ],
   "outputs": [],
   "metadata": {}
  },
  {
   "cell_type": "markdown",
   "metadata": {},
   "source": [
    "## Next Steps\n",
    "\n",
    "1. **Data Collection**:\n",
    "   - Download PUMS microdata for Hawaii\n",
    "   - Obtain geographic boundary files for legislative districts\n",
    "\n",
    "2. **Data Processing**:\n",
    "   - Clean and preprocess the PUMS data\n",
    "   - Calculate EITC and CTC amounts based on tax rules\n",
    "   - Aggregate to different geographic levels\n",
    "\n",
    "3. **Analysis**:\n",
    "   - Analyze distribution of benefits\n",
    "   - Identify areas/populations with highest need\n",
    "   - Compare across different geographic levels\n",
    "\n",
    "4. **Visualization**:\n",
    "   - Create maps of benefit distribution\n",
    "   - Generate summary statistics and charts\n",
    "   - Build interactive dashboards"
   ]
  }
 ],
 "metadata": {
  "kernelspec": {
   "display_name": "Python 3",
   "language": "python",
   "name": "python3"
  },
  "language_info": {
   "codemirror_mode": {
    "name": "ipython",
    "version": 3
   },
   "file_extension": ".py",
   "mimetype": "text/x-python",
   "name": "python",
   "nbconvert_exporter": "python",
   "pygments_lexer": "ipython3",
   "version": "3.8.0"
  }
 },
 "nbformat": 4,
 "nbformat_minor": 4
}
